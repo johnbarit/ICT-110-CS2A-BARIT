{
 "cells": [
  {
   "cell_type": "markdown",
   "id": "cdbfec13-953c-468b-8c60-4d8090d52442",
   "metadata": {},
   "source": [
    "#### Exercise 1\n",
    "\n",
    "Each line of code below contains an error. Fix the error and explain in a comment the reason for the error."
   ]
  },
  {
   "cell_type": "code",
   "execution_count": 1,
   "id": "47ab8989-1af1-4d7d-8972-8161fbee80a1",
   "metadata": {},
   "outputs": [
    {
     "name": "stdout",
     "output_type": "stream",
     "text": [
      "Hello world!\n"
     ]
    }
   ],
   "source": [
    "print('Hello world!') #the error is due to the letter 'p' in 'print' being capitalized."
   ]
  },
  {
   "cell_type": "code",
   "execution_count": null,
   "id": "ec2bc80a-9163-4b3a-a386-575bf9245a9c",
   "metadata": {},
   "outputs": [],
   "source": [
    "print('Hello world!') #missing parentheses ' ( ' - exactly one of that."
   ]
  },
  {
   "cell_type": "code",
   "execution_count": null,
   "id": "72884b6c-a82e-4a1e-9917-cb098c14dfbc",
   "metadata": {},
   "outputs": [],
   "source": [
    "print('Hello world') #The code didn't function for it used an apostrophe. For it to work, Quotations are either (') or (\"\") not (!)."
   ]
  },
  {
   "cell_type": "code",
   "execution_count": null,
   "id": "896c8e70-c7ff-47a5-88bf-52fc743f97b7",
   "metadata": {},
   "outputs": [],
   "source": [
    "print('Hello world!') #extra quotations (')."
   ]
  },
  {
   "cell_type": "markdown",
   "id": "0b94891c-ccd6-44c4-8d2a-0210e92d0dfa",
   "metadata": {},
   "source": [
    "#### Exercise 2\n",
    "What is the output of the code below? [PEW]"
   ]
  },
  {
   "cell_type": "code",
   "execution_count": 2,
   "id": "44ce922b-895b-436a-aab4-f8e6aebb8403",
   "metadata": {},
   "outputs": [
    {
     "name": "stdout",
     "output_type": "stream",
     "text": [
      "44\n"
     ]
    }
   ],
   "source": [
    "x = 43\n",
    "x = x + 1\n",
    "print(x) #44 is the answer"
   ]
  },
  {
   "cell_type": "markdown",
   "id": "3f4d535f-5e8a-498d-9b6c-ec3f817e010b",
   "metadata": {},
   "source": [
    "#### Exercise 3\n",
    "The code below contains an error. Fix the error and explain in a comment the reason for the error."
   ]
  },
  {
   "cell_type": "code",
   "execution_count": 3,
   "id": "b893c767-62e2-4ecc-a06d-2ecbd13f266c",
   "metadata": {},
   "outputs": [
    {
     "name": "stdout",
     "output_type": "stream",
     "text": [
      "44\n"
     ]
    }
   ],
   "source": [
    "x = 43\n",
    "x = x + 1\n",
    "print(x) #the other x is capitalized. So, i changed it into a lowercase one."
   ]
  }
 ],
 "metadata": {
  "kernelspec": {
   "display_name": "Python 3 (ipykernel)",
   "language": "python",
   "name": "python3"
  },
  "language_info": {
   "codemirror_mode": {
    "name": "ipython",
    "version": 3
   },
   "file_extension": ".py",
   "mimetype": "text/x-python",
   "name": "python",
   "nbconvert_exporter": "python",
   "pygments_lexer": "ipython3",
   "version": "3.12.0"
  }
 },
 "nbformat": 4,
 "nbformat_minor": 5
}
