{
 "cells": [
  {
   "cell_type": "markdown",
   "id": "6ac6d9b7-3fd9-47cc-a219-d17a91130721",
   "metadata": {},
   "source": [
    "#### Exercise 1\n",
    "\n",
    "Investigate on the difference between `is` and `==` given the following variables.\n",
    "\n",
    " a = 2\n",
    " b = 2.0\n",
    " c = a\n"
   ]
  },
  {
   "cell_type": "code",
   "execution_count": 2,
   "id": "97ee1183-dfb9-4864-a5b5-a2651f9fb14c",
   "metadata": {},
   "outputs": [
    {
     "name": "stdout",
     "output_type": "stream",
     "text": [
      "a == b\n",
      "b == c\n",
      "c == a\n",
      "c is a\n"
     ]
    }
   ],
   "source": [
    "a = 2\n",
    "b = 2.0\n",
    "c = a\n",
    "if a == b :\n",
    "    print(\"a == b\")\n",
    "if b == c :\n",
    "    print(\"b == c\")\n",
    "if c == a :\n",
    "    print(\"c == a\")\n",
    "    \n",
    "if a is b :\n",
    "    print(\"a is b\")\n",
    "if b is c :\n",
    "    print(\"b is c\")\n",
    "if c is a :\n",
    "    print(\"c is a\")\n",
    "\n",
    "# 'is' operator in Python is used to check if two variables point to the same object.\n",
    "# Unlike the '==' operator, checks if the values of two objects are equal"
   ]
  },
  {
   "cell_type": "markdown",
   "id": "20cec5e9-b7d9-4012-868c-763684cf34e1",
   "metadata": {},
   "source": [
    "## CHALLENGES"
   ]
  },
  {
   "cell_type": "markdown",
   "id": "3614826a-325a-4753-8e04-5e45d38e8c21",
   "metadata": {},
   "source": [
    "#### Challenge 1\n",
    "\n",
    "Write a program which repeatedly reads numbers until the user enters \"done\". Once \"done\" is entered, print out the total, count, and average of the numbers. If the user enters anything other than a number, detect their mistake using try and except and print an error message and skip to the next number.\n",
    "\n",
    "    Enter a number: 4\n",
    "    Enter a number: 5\n",
    "    Enter a number: bad data\n",
    "    Invalid input\n",
    "    Enter a number: 7\n",
    "    Enter a number: done\n",
    "    16 3 5.333333333333333"
   ]
  },
  {
   "cell_type": "code",
   "execution_count": 3,
   "id": "380235ac-fc8c-4785-9bc6-5a2bf3729a4e",
   "metadata": {},
   "outputs": [
    {
     "name": "stdin",
     "output_type": "stream",
     "text": [
      "Enter a number:  4\n",
      "Enter a number:  5\n",
      "Enter a number:  bruh\n"
     ]
    },
    {
     "name": "stdout",
     "output_type": "stream",
     "text": [
      "an error\n"
     ]
    },
    {
     "name": "stdin",
     "output_type": "stream",
     "text": [
      "Enter a number:  7\n",
      "Enter a number:  done\n"
     ]
    },
    {
     "name": "stdout",
     "output_type": "stream",
     "text": [
      "16 3 5.333333333333333\n"
     ]
    }
   ],
   "source": [
    "number = []\n",
    "while True :\n",
    "    enters = input(\"Enter a number: \")\n",
    "    try:\n",
    "        if enters == \"done\" :\n",
    "            break\n",
    "        else :\n",
    "            number.append(int(enters))\n",
    "    except:\n",
    "        print(\"an error\")\n",
    "\n",
    "total = 0\n",
    "count = len(number)\n",
    "for value in number :\n",
    "    total += value\n",
    "\n",
    "average = float(total / count)\n",
    "print(total, count, average)"
   ]
  },
  {
   "cell_type": "markdown",
   "id": "1d970fe1-6a8d-4232-9087-cf723d88d9cc",
   "metadata": {},
   "source": [
    "#### Challenge 2  \n",
    "\n",
    "Write another program that prompts for a list of numbers as above and at the end prints out both the maximum and minimum of the numbers instead of the average."
   ]
  },
  {
   "cell_type": "code",
   "execution_count": 4,
   "id": "6a5f07ea-e8bb-4080-8de5-a28108462d59",
   "metadata": {},
   "outputs": [
    {
     "name": "stdin",
     "output_type": "stream",
     "text": [
      "Enter a number:  1\n",
      "Enter a number:  2\n",
      "Enter a number:  3221\n",
      "Enter a number:  23\n",
      "Enter a number:  23\n",
      "Enter a number:  23\n",
      "Enter a number:  \n"
     ]
    },
    {
     "name": "stdout",
     "output_type": "stream",
     "text": [
      "an error\n"
     ]
    },
    {
     "name": "stdin",
     "output_type": "stream",
     "text": [
      "Enter a number:  23\n",
      "Enter a number:  done\n"
     ]
    },
    {
     "name": "stdout",
     "output_type": "stream",
     "text": [
      "3221 1\n"
     ]
    }
   ],
   "source": [
    "minimum = 1000\n",
    "maximum = 0\n",
    "while True:\n",
    "    enter = input(\"Enter a number: \")\n",
    "    try:\n",
    "        if enter == \"done\" :\n",
    "            break\n",
    "        else :\n",
    "            minimum = min(minimum, int(enter))\n",
    "            maximum = max(maximum, int(enter))\n",
    "    except:\n",
    "        print(\"an error\")\n",
    "print(maximum, minimum)"
   ]
  },
  {
   "cell_type": "code",
   "execution_count": null,
   "id": "42fa17d0-90ec-4e7a-9028-b757cd264fb0",
   "metadata": {},
   "outputs": [],
   "source": []
  }
 ],
 "metadata": {
  "kernelspec": {
   "display_name": "Python 3 (ipykernel)",
   "language": "python",
   "name": "python3"
  },
  "language_info": {
   "codemirror_mode": {
    "name": "ipython",
    "version": 3
   },
   "file_extension": ".py",
   "mimetype": "text/x-python",
   "name": "python",
   "nbconvert_exporter": "python",
   "pygments_lexer": "ipython3",
   "version": "3.11.7"
  }
 },
 "nbformat": 4,
 "nbformat_minor": 5
}
