{
 "cells": [
  {
   "cell_type": "markdown",
   "id": "4b0eeb74",
   "metadata": {},
   "source": [
    "#### Exercise 1"
   ]
  },
  {
   "cell_type": "code",
   "execution_count": 1,
   "id": "e504aa16",
   "metadata": {},
   "outputs": [
    {
     "name": "stdout",
     "output_type": "stream",
     "text": [
      "Enter your name: JOHNNY\n",
      "Hello JOHNNY\n"
     ]
    }
   ],
   "source": [
    "name = input(\"Enter your name: \")\n",
    "print(\"Hello \" + name)"
   ]
  },
  {
   "cell_type": "markdown",
   "id": "4a6c0c2b",
   "metadata": {},
   "source": [
    "#### Exercise 2"
   ]
  },
  {
   "cell_type": "code",
   "execution_count": 2,
   "id": "0039fcae",
   "metadata": {},
   "outputs": [
    {
     "name": "stdout",
     "output_type": "stream",
     "text": [
      "enter hours: 30\n",
      "enter rate: 2.75\n",
      "Pay:  82.5\n"
     ]
    }
   ],
   "source": [
    "hours = input(\"enter hours: \")\n",
    "rate = input(\"enter rate: \")\n",
    "hoursNum = float(hours)\n",
    "rateNum = float(rate)\n",
    "pay = hoursNum * rateNum\n",
    "print (\"Pay: \",pay)"
   ]
  },
  {
   "cell_type": "markdown",
   "id": "176f39d7",
   "metadata": {},
   "source": [
    "#### Exercise 3"
   ]
  },
  {
   "cell_type": "code",
   "execution_count": 3,
   "id": "ae193dfe",
   "metadata": {},
   "outputs": [
    {
     "name": "stdout",
     "output_type": "stream",
     "text": [
      "8 <class 'int'>\n",
      "8.0 <class 'float'>\n",
      "4.0 <class 'float'>\n",
      "11 <class 'int'>\n"
     ]
    }
   ],
   "source": [
    "width = 17\n",
    "height = 12.0\n",
    "print(width//2,(type(width//2)))\n",
    "print(width//2.0,(type(width//2.0)))\n",
    "print(height/3,(type(height/3)))\n",
    "print(1+2*5,(type(1+2*5)))"
   ]
  },
  {
   "cell_type": "markdown",
   "id": "b9288af4",
   "metadata": {},
   "source": [
    "#### Exercise 4\n",
    "\n",
    "Write a program that uses input to prompt a user for a number and then outputs the square of the number\n",
    "```\n",
    "Enter a number: 3\n",
    "The square of 3 is 9\n",
    "```"
   ]
  },
  {
   "cell_type": "code",
   "execution_count": 4,
   "id": "13ca25bf",
   "metadata": {},
   "outputs": [
    {
     "name": "stdout",
     "output_type": "stream",
     "text": [
      "Enter a number: 5\n",
      "the squar of 5 is 25\n"
     ]
    }
   ],
   "source": [
    "num = input(\"Enter a number: \")\n",
    "numValue = int(num)\n",
    "numValue = numValue *numValue\n",
    "print(\"the squar of\", num,\"is\",numValue)"
   ]
  },
  {
   "cell_type": "markdown",
   "id": "a0a60cb1",
   "metadata": {},
   "source": [
    "## CHALLENGE"
   ]
  },
  {
   "cell_type": "code",
   "execution_count": 5,
   "id": "17308608",
   "metadata": {},
   "outputs": [
    {
     "name": "stdout",
     "output_type": "stream",
     "text": [
      "enter celsius temperature: 13\n",
      "converted farenheit:  55.400000000000006\n"
     ]
    }
   ],
   "source": [
    "celsius = input(\"enter celsius temperature: \")\n",
    "farenheit = int(celsius) *(9/5) + 32\n",
    "print (\"converted farenheit: \", farenheit)"
   ]
  }
 ],
 "metadata": {
  "kernelspec": {
   "display_name": "Python 3 (ipykernel)",
   "language": "python",
   "name": "python3"
  },
  "language_info": {
   "codemirror_mode": {
    "name": "ipython",
    "version": 3
   },
   "file_extension": ".py",
   "mimetype": "text/x-python",
   "name": "python",
   "nbconvert_exporter": "python",
   "pygments_lexer": "ipython3",
   "version": "3.11.4"
  }
 },
 "nbformat": 4,
 "nbformat_minor": 5
}
