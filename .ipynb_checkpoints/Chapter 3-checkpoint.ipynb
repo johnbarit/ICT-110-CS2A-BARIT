{
 "cells": [
  {
   "cell_type": "markdown",
   "id": "1a768db4-df1e-4b3b-8086-6976fbde2718",
   "metadata": {},
   "source": [
    "#### Exercise 1\n",
    "\n",
    "In the code below, which will never print regardless of the value for x? Edit the code to correct the error.\n",
    "\n",
    "```                                                           \n",
    " x = 420\n",
    " if x > 0 :\n",
    "    print('Above 0')\n",
    " elif x >  10 :\n",
    "    print('Above 10')\n",
    " elif x > 50 :\n",
    "    print('Above 50')\n",
    " elif x >  20 :\n",
    "    print('Above 20')\n",
    " else :\n",
    "    print('Something else') #NOTE THAT THIS IS THE QUESTION\n",
    "```"
   ]
  },
  {
   "cell_type": "code",
   "execution_count": 13,
   "id": "82997d52-a15c-44a1-90f5-f01e8a060102",
   "metadata": {},
   "outputs": [
    {
     "name": "stdin",
     "output_type": "stream",
     "text": [
      "Enter the value of x:  -1\n"
     ]
    },
    {
     "name": "stdout",
     "output_type": "stream",
     "text": [
      "Something else\n"
     ]
    }
   ],
   "source": [
    "number = input(\"Enter the value of x: \")\n",
    "x = int(number)\n",
    "if x > 0 :\n",
    "    print('Above 0')\n",
    "elif x >  10 :\n",
    "    print('Above 10')\n",
    "elif x > 50 :\n",
    "    print('Above 50')\n",
    "elif x >  20 :\n",
    "    print('Above 20')\n",
    "else :\n",
    "    print('Something else') #above is the unedited one"
   ]
  },
  {
   "cell_type": "markdown",
   "id": "6720222f-5f4a-4d07-96f5-9a533eaa36fb",
   "metadata": {},
   "source": [
    "#### Exercise 2"
   ]
  },
  {
   "cell_type": "code",
   "execution_count": 25,
   "id": "6da9f1f2-d2bc-433b-b099-329323f8396e",
   "metadata": {},
   "outputs": [
    {
     "name": "stdin",
     "output_type": "stream",
     "text": [
      "Please enter your hours worked:  45\n",
      "Please enter your hourly rate:  10\n"
     ]
    },
    {
     "name": "stdout",
     "output_type": "stream",
     "text": [
      "Gross pay 475.0\n"
     ]
    }
   ],
   "source": [
    "num1 = input('Please enter your hours worked: ')\n",
    "num2 = input('Please enter your hourly rate: ')\n",
    "hrs = float(num1)\n",
    "rte = float(num2)\n",
    "\n",
    "gross = (hrs * rte)\n",
    "if hrs > 40:\n",
    " gross = ((hrs - 40) * (1.5 * rte)) + (40 * rte) \n",
    "         \n",
    "print('Gross pay', gross)"
   ]
  },
  {
   "cell_type": "markdown",
   "id": "674b5eeb-2fb3-4c7c-b8f3-2b8009d6dcb2",
   "metadata": {},
   "source": [
    "## CHALLENGE\n",
    "\n",
    "Write a program to prompt for a score between 0 and 100 and print a grade using the following table:\n",
    "\n",
    "    Score           Grade\n",
    "    [ 97, 100]      1.0\n",
    "    [ 93,  97)\t\t1.25\n",
    "    [ 89,  93)\t\t1.5\n",
    "    [ 85,  89)\t\t1.75\n",
    "    [ 81,  85)\t\t2.0\n",
    "    [ 77,  81)\t\t2.25\n",
    "    [ 74,  77)\t\t2.5\n",
    "    [ 0,   74)\t\t3.0\n"
   ]
  },
  {
   "cell_type": "code",
   "execution_count": 28,
   "id": "678d704d-3319-4af2-a2d8-8bb6a9a489b3",
   "metadata": {},
   "outputs": [
    {
     "name": "stdin",
     "output_type": "stream",
     "text": [
      "Enter the score between 0 and 100:  92\n"
     ]
    },
    {
     "name": "stdout",
     "output_type": "stream",
     "text": [
      "Your Grade is: 1.5\n"
     ]
    }
   ],
   "source": [
    "num = input(\"Enter the score between 0 and 100: \" )\n",
    "score = int(num)\n",
    "if score >= 97 :\n",
    "    grade = 1.0\n",
    "elif score >=93 :\n",
    "    grade = 1.25\n",
    "elif score >= 89 :\n",
    "    grade = 1.5\n",
    "elif score >= 85 :\n",
    "    grade = 1.75\n",
    "elif score >= 81 :\n",
    "    grade = 2.0\n",
    "elif score >= 77 :\n",
    "    grade = 2.25\n",
    "elif score >= 74 :\n",
    "    grade = 2.5\n",
    "elif score >= 0 :\n",
    "    grade = 3.0\n",
    "else :\n",
    "    grade = 5.0\n",
    "print(\"Your Grade is:\", grade)"
   ]
  },
  {
   "cell_type": "code",
   "execution_count": null,
   "id": "bd37bec2-a493-4d33-a94c-ecfc52634329",
   "metadata": {},
   "outputs": [],
   "source": []
  }
 ],
 "metadata": {
  "kernelspec": {
   "display_name": "Python 3 (ipykernel)",
   "language": "python",
   "name": "python3"
  },
  "language_info": {
   "codemirror_mode": {
    "name": "ipython",
    "version": 3
   },
   "file_extension": ".py",
   "mimetype": "text/x-python",
   "name": "python",
   "nbconvert_exporter": "python",
   "pygments_lexer": "ipython3",
   "version": "3.11.7"
  }
 },
 "nbformat": 4,
 "nbformat_minor": 5
}
